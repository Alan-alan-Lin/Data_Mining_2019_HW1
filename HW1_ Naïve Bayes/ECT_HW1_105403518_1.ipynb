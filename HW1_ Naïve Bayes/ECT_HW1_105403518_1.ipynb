{
 "cells": [
  {
   "cell_type": "code",
   "execution_count": 3,
   "metadata": {},
   "outputs": [],
   "source": [
    "#讀取CSV檔案\n",
    "import pandas as pd\n",
    "data = pd.read_csv('mushrooms.csv')"
   ]
  },
  {
   "cell_type": "code",
   "execution_count": 4,
   "metadata": {},
   "outputs": [
    {
     "name": "stdout",
     "output_type": "stream",
     "text": [
      "<class 'pandas.core.frame.DataFrame'>\n",
      "RangeIndex: 8124 entries, 0 to 8123\n",
      "Data columns (total 12 columns):\n",
      "type                      8124 non-null object\n",
      "cap_shape                 8124 non-null object\n",
      "cap_surface               8124 non-null object\n",
      "cap_color                 8124 non-null object\n",
      "odor                      8124 non-null object\n",
      "stalk_shape               8124 non-null object\n",
      "stalk_color_above_ring    8124 non-null object\n",
      "stalk_color_below_ring    8124 non-null object\n",
      "ring_number               8124 non-null object\n",
      "ring_type                 8124 non-null object\n",
      "population                8124 non-null object\n",
      "habitat                   8124 non-null object\n",
      "dtypes: object(12)\n",
      "memory usage: 761.8+ KB\n"
     ]
    }
   ],
   "source": [
    "#看資料集的資訊\n",
    "data.info()"
   ]
  },
  {
   "cell_type": "code",
   "execution_count": 5,
   "metadata": {},
   "outputs": [
    {
     "data": {
      "text/html": [
       "<div>\n",
       "<style scoped>\n",
       "    .dataframe tbody tr th:only-of-type {\n",
       "        vertical-align: middle;\n",
       "    }\n",
       "\n",
       "    .dataframe tbody tr th {\n",
       "        vertical-align: top;\n",
       "    }\n",
       "\n",
       "    .dataframe thead th {\n",
       "        text-align: right;\n",
       "    }\n",
       "</style>\n",
       "<table border=\"1\" class=\"dataframe\">\n",
       "  <thead>\n",
       "    <tr style=\"text-align: right;\">\n",
       "      <th></th>\n",
       "      <th>type</th>\n",
       "      <th>cap_shape</th>\n",
       "      <th>cap_surface</th>\n",
       "      <th>cap_color</th>\n",
       "      <th>odor</th>\n",
       "      <th>stalk_shape</th>\n",
       "      <th>stalk_color_above_ring</th>\n",
       "      <th>stalk_color_below_ring</th>\n",
       "      <th>ring_number</th>\n",
       "      <th>ring_type</th>\n",
       "      <th>population</th>\n",
       "      <th>habitat</th>\n",
       "    </tr>\n",
       "  </thead>\n",
       "  <tbody>\n",
       "    <tr>\n",
       "      <td>count</td>\n",
       "      <td>8124</td>\n",
       "      <td>8124</td>\n",
       "      <td>8124</td>\n",
       "      <td>8124</td>\n",
       "      <td>8124</td>\n",
       "      <td>8124</td>\n",
       "      <td>8124</td>\n",
       "      <td>8124</td>\n",
       "      <td>8124</td>\n",
       "      <td>8124</td>\n",
       "      <td>8124</td>\n",
       "      <td>8124</td>\n",
       "    </tr>\n",
       "    <tr>\n",
       "      <td>unique</td>\n",
       "      <td>2</td>\n",
       "      <td>6</td>\n",
       "      <td>4</td>\n",
       "      <td>10</td>\n",
       "      <td>9</td>\n",
       "      <td>2</td>\n",
       "      <td>9</td>\n",
       "      <td>9</td>\n",
       "      <td>3</td>\n",
       "      <td>5</td>\n",
       "      <td>6</td>\n",
       "      <td>7</td>\n",
       "    </tr>\n",
       "    <tr>\n",
       "      <td>top</td>\n",
       "      <td>e</td>\n",
       "      <td>x</td>\n",
       "      <td>y</td>\n",
       "      <td>n</td>\n",
       "      <td>n</td>\n",
       "      <td>t</td>\n",
       "      <td>w</td>\n",
       "      <td>w</td>\n",
       "      <td>o</td>\n",
       "      <td>p</td>\n",
       "      <td>v</td>\n",
       "      <td>d</td>\n",
       "    </tr>\n",
       "    <tr>\n",
       "      <td>freq</td>\n",
       "      <td>4208</td>\n",
       "      <td>3656</td>\n",
       "      <td>3244</td>\n",
       "      <td>2284</td>\n",
       "      <td>3528</td>\n",
       "      <td>4608</td>\n",
       "      <td>4464</td>\n",
       "      <td>4384</td>\n",
       "      <td>7488</td>\n",
       "      <td>3968</td>\n",
       "      <td>4040</td>\n",
       "      <td>3148</td>\n",
       "    </tr>\n",
       "  </tbody>\n",
       "</table>\n",
       "</div>"
      ],
      "text/plain": [
       "        type cap_shape cap_surface cap_color  odor stalk_shape  \\\n",
       "count   8124      8124        8124      8124  8124        8124   \n",
       "unique     2         6           4        10     9           2   \n",
       "top        e         x           y         n     n           t   \n",
       "freq    4208      3656        3244      2284  3528        4608   \n",
       "\n",
       "       stalk_color_above_ring stalk_color_below_ring ring_number ring_type  \\\n",
       "count                    8124                   8124        8124      8124   \n",
       "unique                      9                      9           3         5   \n",
       "top                         w                      w           o         p   \n",
       "freq                     4464                   4384        7488      3968   \n",
       "\n",
       "       population habitat  \n",
       "count        8124    8124  \n",
       "unique          6       7  \n",
       "top             v       d  \n",
       "freq         4040    3148  "
      ]
     },
     "execution_count": 5,
     "metadata": {},
     "output_type": "execute_result"
    }
   ],
   "source": [
    "#看資料集的平均值、分佈情況、是否有資料傾斜的狀況\n",
    "data.describe()"
   ]
  },
  {
   "cell_type": "code",
   "execution_count": 7,
   "metadata": {},
   "outputs": [],
   "source": [
    "#切分input和output\n",
    "#x作為input\n",
    "#y作為output\n",
    "#特徵欄位\n",
    "x=data.loc[:,['cap_shape','cap_surface','cap_color','odor','stalk_shape','stalk_color_above_ring','stalk_color_below_ring','ring_number','ring_type','population','habitat']]\n",
    "#目標欄位\n",
    "y=data.loc[:,['type']]"
   ]
  },
  {
   "cell_type": "code",
   "execution_count": 8,
   "metadata": {},
   "outputs": [],
   "source": [
    "from sklearn import preprocessing\n",
    "#將屬性轉為數字label\n",
    "label = preprocessing.LabelEncoder()\n",
    "X_cap_shape = label.fit_transform(x.cap_shape)\n",
    "X_cap_surface = label.fit_transform(x.cap_surface)\n",
    "X_cap_color = label.fit_transform(x.cap_color)\n",
    "X_odor = label.fit_transform(x.odor)\n",
    "X_stalk_shape = label.fit_transform(x.stalk_shape)\n",
    "X_stalk_color_above_ring = label.fit_transform(x.stalk_color_above_ring)\n",
    "X_stalk_color_below_ring = label.fit_transform(x.stalk_color_below_ring)\n",
    "X_ring_number = label.fit_transform(x.ring_number)\n",
    "X_ring_type = label.fit_transform(x.ring_type)\n",
    "X_population = label.fit_transform(x.population)\n",
    "X_habitat = label.fit_transform(x.habitat)\n",
    "\n",
    "#將type轉為數字label\n",
    "Y_type_label = label.fit_transform(y.type)\n",
    "\n",
    "#將屬性合併變成list\n",
    "feature=list(zip(X_cap_shape,X_cap_surface,X_cap_color,X_odor,X_stalk_shape,X_stalk_color_above_ring,X_stalk_color_below_ring,X_ring_number,X_ring_type,X_population,X_habitat))\n",
    "\n",
    "#轉成陣列\n",
    "import numpy as np\n",
    "features = np.asarray(feature)"
   ]
  },
  {
   "cell_type": "code",
   "execution_count": 9,
   "metadata": {},
   "outputs": [
    {
     "data": {
      "text/plain": [
       "GaussianNB(priors=None, var_smoothing=1e-09)"
      ]
     },
     "execution_count": 9,
     "metadata": {},
     "output_type": "execute_result"
    }
   ],
   "source": [
    "#訓練模型:訓練集\n",
    "#Import Gaussian Naïve Bayes模型\n",
    "from sklearn.naive_bayes import GaussianNB\n",
    "model = GaussianNB()\n",
    "\n",
    "#訓練集訓練模型\n",
    "#model.fit(X,Y)\n",
    "model.fit(features,Y_type_label)"
   ]
  },
  {
   "cell_type": "code",
   "execution_count": 11,
   "metadata": {},
   "outputs": [
    {
     "name": "stdout",
     "output_type": "stream",
     "text": [
      "              precision    recall  f1-score   support\n",
      "\n",
      "           0       0.87      0.78      0.82      4208\n",
      "           1       0.79      0.87      0.83      3916\n",
      "\n",
      "    accuracy                           0.83      8124\n",
      "   macro avg       0.83      0.83      0.83      8124\n",
      "weighted avg       0.83      0.83      0.83      8124\n",
      "\n"
     ]
    }
   ],
   "source": [
    "#測試集測試模型\n",
    "expected = Y_type_label\n",
    "predicted = model.predict(features)\n",
    "from sklearn import metrics\n",
    "print(metrics.classification_report(expected,predicted))"
   ]
  },
  {
   "cell_type": "code",
   "execution_count": 13,
   "metadata": {},
   "outputs": [
    {
     "name": "stdout",
     "output_type": "stream",
     "text": [
      "[[3296  912]\n",
      " [ 493 3423]]\n"
     ]
    }
   ],
   "source": [
    "#混淆矩陣\n",
    "print(metrics.confusion_matrix(expected,predicted))"
   ]
  },
  {
   "cell_type": "code",
   "execution_count": null,
   "metadata": {},
   "outputs": [],
   "source": []
  }
 ],
 "metadata": {
  "kernelspec": {
   "display_name": "Python 3",
   "language": "python",
   "name": "python3"
  },
  "language_info": {
   "codemirror_mode": {
    "name": "ipython",
    "version": 3
   },
   "file_extension": ".py",
   "mimetype": "text/x-python",
   "name": "python",
   "nbconvert_exporter": "python",
   "pygments_lexer": "ipython3",
   "version": "3.7.4"
  }
 },
 "nbformat": 4,
 "nbformat_minor": 2
}
